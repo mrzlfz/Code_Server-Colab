{
  "nbformat": 4,
  "nbformat_minor": 0,
  "metadata": {
    "colab": {
      "provenance": [],
      "collapsed_sections": []
    },
    "kernelspec": {
      "name": "python3",
      "display_name": "Python 3"
    },
    "language_info": {
      "name": "python"
    }
  },
  "cells": [
    {
      "cell_type": "markdown",
      "metadata": {
        "id": "header"
      },
      "source": [
        "# 🚀 VS Code Server on Google Colab\n",
        "\n",
        "This notebook sets up a full VS Code Server environment in Google Colab with:\n",
        "- ✅ No sudo/firewall requirements\n",
        "- ✅ Automatic dependency management\n",
        "- ✅ Extension support\n",
        "- ✅ Ngrok tunnel for remote access\n",
        "- ✅ Easy management commands\n",
        "\n",
        "## 📋 Instructions\n",
        "1. Run the setup cell below\n",
        "2. Wait for installation to complete\n",
        "3. Use the management commands to control the server\n",
        "4. Access VS Code through the provided URL"
      ]
    },
    {
      "cell_type": "markdown",
      "metadata": {
        "id": "setup-header"
      },
      "source": [
        "## 🛠️ Setup VS Code Server"
      ]
    },
    {
      "cell_type": "code",
      "execution_count": null,
      "metadata": {
        "id": "setup-cell"
      },
      "outputs": [],
      "source": [
        "# Download and run the Google Colab optimized setup script\n",
        "!curl -fsSL https://raw.githubusercontent.com/your-repo/vscode-server/main/setup-code-server-colab.sh -o setup-code-server-colab.sh\n",
        "!chmod +x setup-code-server-colab.sh\n",
        "!./setup-code-server-colab.sh"
      ]
    },
    {
      "cell_type": "markdown",
      "metadata": {
        "id": "manager-header"
      },
      "source": [
        "## 🎛️ Download Management Script"
      ]
    },
    {
      "cell_type": "code",
      "execution_count": null,
      "metadata": {
        "id": "manager-cell"
      },
      "outputs": [],
      "source": [
        "# Download the management script\n",
        "!curl -fsSL https://raw.githubusercontent.com/your-repo/vscode-server/main/colab-code-server-manager.sh -o colab-manager.sh\n",
        "!chmod +x colab-manager.sh"
      ]
    },
    {
      "cell_type": "markdown",
      "metadata": {
        "id": "status-header"
      },
      "source": [
        "## 📊 Check Status"
      ]
    },
    {
      "cell_type": "code",
      "execution_count": null,
      "metadata": {
        "id": "status-cell"
      },
      "outputs": [],
      "source": [
        "!./colab-manager.sh status"
      ]
    },
    {
      "cell_type": "markdown",
      "metadata": {
        "id": "access-header"
      },
      "source": [
        "## 🌐 Get Access Information"
      ]
    },
    {
      "cell_type": "code",
      "execution_count": null,
      "metadata": {
        "id": "access-cell"
      },
      "outputs": [],
      "source": [
        "!./colab-manager.sh url"
      ]
    },
    {
      "cell_type": "markdown",
      "metadata": {
        "id": "tunnel-header"
      },
      "source": [
        "## 🚇 Setup Ngrok Tunnel (Optional)\n",
        "\n",
        "Run this to create a public URL for remote access:"
      ]
    },
    {
      "cell_type": "code",
      "execution_count": null,
      "metadata": {
        "id": "tunnel-cell"
      },
      "outputs": [],
      "source": [
        "!./colab-manager.sh tunnel"
      ]
    },
    {
      "cell_type": "markdown",
      "metadata": {
        "id": "control-header"
      },
      "source": [
        "## 🎮 Server Control Commands"
      ]
    },
    {
      "cell_type": "code",
      "execution_count": null,
      "metadata": {
        "id": "start-cell"
      },
      "outputs": [],
      "source": [
        "# Start the server\n",
        "!./colab-manager.sh start"
      ]
    },
    {
      "cell_type": "code",
      "execution_count": null,
      "metadata": {
        "id": "stop-cell"
      },
      "outputs": [],
      "source": [
        "# Stop the server\n",
        "!./colab-manager.sh stop"
      ]
    },
    {
      "cell_type": "code",
      "execution_count": null,
      "metadata": {
        "id": "restart-cell"
      },
      "outputs": [],
      "source": [
        "# Restart the server\n",
        "!./colab-manager.sh restart"
      ]
    },
    {
      "cell_type": "markdown",
      "metadata": {
        "id": "logs-header"
      },
      "source": [
        "## 📋 View Logs"
      ]
    },
    {
      "cell_type": "code",
      "execution_count": null,
      "metadata": {
        "id": "logs-cell"
      },
      "outputs": [],
      "source": [
        "!./colab-manager.sh logs"
      ]
    },
    {
      "cell_type": "markdown",
      "metadata": {
        "id": "tips-header"
      },
      "source": [
        "## 💡 Tips & Troubleshooting\n",
        "\n",
        "### Common Issues:\n",
        "1. **Server not starting**: Check logs with `!./colab-manager.sh logs`\n",
        "2. **Can't access URL**: Make sure the server is running with `!./colab-manager.sh status`\n",
        "3. **Forgot password**: Get it with `!./colab-manager.sh url`\n",
        "\n",
        "### Features:\n",
        "- **Auto-restart**: The server will automatically restart if it crashes\n",
        "- **Extensions**: Python, Jupyter, and other essential extensions are pre-installed\n",
        "- **File persistence**: Your files are saved in the Colab environment\n",
        "- **Remote access**: Use ngrok tunnel to access from anywhere\n",
        "\n",
        "### Performance Tips:\n",
        "- Use the local URL (localhost:8888) when possible for better performance\n",
        "- The ngrok tunnel adds some latency but enables remote access\n",
        "- Files are stored in `/content` which persists during the Colab session"
      ]
    }
  ]
}
